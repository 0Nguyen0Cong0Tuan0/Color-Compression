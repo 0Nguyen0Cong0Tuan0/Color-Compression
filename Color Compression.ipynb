{
 "cells": [
  {
   "cell_type": "markdown",
   "metadata": {},
   "source": [
    "# Project 01 - Color Compression"
   ]
  },
  {
   "cell_type": "markdown",
   "metadata": {},
   "source": [
    "## Thông tin sinh viên"
   ]
  },
  {
   "cell_type": "markdown",
   "metadata": {},
   "source": [
    "- Họ và tên: **Nguyễn Công Tuấn**\n",
    "- MSSV: **22127436**\n",
    "- Lớp: **22CLC03**"
   ]
  },
  {
   "cell_type": "markdown",
   "metadata": {},
   "source": [
    "## Import các thư viện liên quan"
   ]
  },
  {
   "cell_type": "code",
   "execution_count": null,
   "metadata": {},
   "outputs": [],
   "source": [
    "import numpy as np\n",
    "from PIL import Image\n",
    "import matplotlib.pyplot as plt"
   ]
  },
  {
   "cell_type": "markdown",
   "metadata": {},
   "source": [
    "## Helper functions"
   ]
  },
  {
   "cell_type": "code",
   "execution_count": null,
   "metadata": {},
   "outputs": [],
   "source": [
    "def read_img(img_path):\n",
    "    image = Image.open(img_path)\n",
    "    return np.array(image)\n",
    "\n",
    "def show_img(img_2d):\n",
    "    plt.imshow(img_2d)\n",
    "    plt.axis('off')\n",
    "    plt.show()\n",
    "\n",
    "def save_img(img_2d, img_path):\n",
    "    image = Image.fromarray(img_2d)\n",
    "    image.save(img_path)\n",
    "\n",
    "def convert_img_to_1d(img_2d):\n",
    "    return img_2d.reshape((-1, img_2d.shape[2]))\n",
    "\n",
    "def kmeans(img_1d, k_clusters, max_iter=100, init_centroids='random'):\n",
    "    centroids = initialize_centroids(img_1d, k_clusters, init_centroids)\n",
    "\n",
    "    for _ in range(max_iter):\n",
    "        labels = assign_labels(img_1d, centroids)\n",
    "        new_centroids = update_centroids(img_1d, centroids, labels, k_clusters)\n",
    "\n",
    "        if np.all(centroids == new_centroids):\n",
    "            break\n",
    "\n",
    "        centroids = new_centroids\n",
    "\n",
    "    return centroids, labels\n",
    "\n",
    "def generate_2d_img(img_2d_shape, centroids, labels):\n",
    "    new_img_1d = centroids[labels]\n",
    "    return new_img_1d.reshape(img_2d_shape).astype(np.uint8)\n",
    "\n",
    "def initialize_centroids(img_1d, k_clusters, init_method):\n",
    "    if init_method == 'random':\n",
    "        return np.random.randint(0, 256, size=(k_clusters, img_1d.shape[1]))\n",
    "    elif init_method == 'in_pixels':\n",
    "        indices = np.random.choice(img_1d.shape[0], k_clusters, replace=False)\n",
    "        return img_1d[indices]\n",
    "\n",
    "def assign_labels(img_1d, centroids):\n",
    "    distances = np.linalg.norm(img_1d[:, np.newaxis] - centroids, axis=2)\n",
    "    return np.argmin(distances, axis=1)\n",
    "\n",
    "def update_centroids(img_1d, centroids, labels, k_clusters):\n",
    "    new_centroids = []\n",
    "    for i in range(k_clusters):\n",
    "        points_in_cluster = img_1d[labels == i]\n",
    "        if len(points_in_cluster) == 0:\n",
    "            new_centroids.append(np.random.randint(0, 256, size=(img_1d.shape[1])))\n",
    "        else:\n",
    "            new_centroids.append(points_in_cluster.mean(axis=0))\n",
    "    return np.array(new_centroids)"
   ]
  },
  {
   "attachments": {},
   "cell_type": "markdown",
   "metadata": {},
   "source": [
    "## Your tests"
   ]
  },
  {
   "cell_type": "code",
   "execution_count": null,
   "metadata": {},
   "outputs": [],
   "source": []
  },
  {
   "cell_type": "markdown",
   "metadata": {},
   "source": [
    "## Main FUNCTION"
   ]
  },
  {
   "cell_type": "code",
   "execution_count": null,
   "metadata": {},
   "outputs": [],
   "source": [
    "def main():\n",
    "    img_path = input(\"Enter the image path: \")\n",
    "    img_2d = read_img(img_path)\n",
    "\n",
    "    print(\"Original Image\")\n",
    "    show_img(img_2d)\n",
    "\n",
    "    img_1d = convert_img_to_1d(img_2d)\n",
    "    k = int(input(\"Enter the number of colors for K-Means: \"))\n",
    "    max_iter = int(input(\"Enter the maximum number of iterations for K-Means: \"))\n",
    "    init_method = input(\"Enter the initialization method (random/in_pixels): \").strip().lower()\n",
    "\n",
    "    while init_method not in ['random', 'in_pixels']:\n",
    "        print(\"Invalid initialization method. Please enter 'random' or 'in_pixels'.\")\n",
    "        init_method = input(\"Enter the initialization method (random/in_pixels): \").strip().lower()\n",
    "\n",
    "    centroids, labels = kmeans(img_1d, k_clusters=k, max_iter=max_iter, init_centroids=init_method)\n",
    "    img_2d_output = generate_2d_img(img_2d.shape, centroids, labels)\n",
    "\n",
    "    print(f\"Image after K-means algorithm with k = {k}\")\n",
    "    show_img(img_2d_output)\n",
    "\n",
    "    save_image_path = []\n",
    "    save_image_path.append(img_path.rsplit('.', 1)[0] + '_result.png')\n",
    "    save_image_path.append(img_path.rsplit('.', 1)[0] + '_result.pdf')\n",
    "\n",
    "    for path in save_image_path:\n",
    "        save_img(img_2d_output, path)\n",
    "\n",
    "    print('Save Successfully')"
   ]
  },
  {
   "cell_type": "code",
   "execution_count": null,
   "metadata": {},
   "outputs": [],
   "source": [
    "\n",
    "main()"
   ]
  }
 ],
 "metadata": {
  "kernelspec": {
   "display_name": "Python 3",
   "language": "python",
   "name": "python3"
  },
  "language_info": {
   "codemirror_mode": {
    "name": "ipython",
    "version": 3
   },
   "file_extension": ".py",
   "mimetype": "text/x-python",
   "name": "python",
   "nbconvert_exporter": "python",
   "pygments_lexer": "ipython3",
   "version": "3.12.2"
  }
 },
 "nbformat": 4,
 "nbformat_minor": 4
}
